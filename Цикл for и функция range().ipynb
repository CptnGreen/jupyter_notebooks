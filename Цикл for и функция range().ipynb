{
 "cells": [
  {
   "cell_type": "markdown",
   "metadata": {},
   "source": [
    "# Цикл for"
   ]
  },
  {
   "cell_type": "markdown",
   "metadata": {},
   "source": [
    "В программе нередко приходится повторять одну и ту же (иногда очень длинную!) последовательность команд по много раз. Чтобы не загромождать код повторением одних и тех же фрагментов, можно написать функцию, выполняющую все нужные команды за один вызов - этому вы научились в прошлый раз. Но что, если саму функцию нужно вызывать много раз? Здесь нам на помощь приходят <strong>циклы</strong>."
   ]
  },
  {
   "cell_type": "markdown",
   "metadata": {},
   "source": [
    "Цикл повторяет вложенные в него команды нужное количество раз. В цикле <strong>for</strong> (есть и другой цикл - while) отсчёт осуществляется благодаря тому, что некоторый счётчик последовательно пробегает все значения некоторого переданного циклу диапазона (в простейшем случае просто перебирает числа от нуля единицы до нужного числа)."
   ]
  },
  {
   "cell_type": "code",
   "execution_count": 12,
   "metadata": {},
   "outputs": [
    {
     "name": "stdout",
     "output_type": "stream",
     "text": [
      "0\n",
      "1\n",
      "2\n",
      "3\n",
      "4\n",
      "5\n",
      "6\n",
      "7\n",
      "8\n",
      "9\n"
     ]
    }
   ],
   "source": [
    "# 10 последовательных чисел можно вывести на экран вот так - \"в лоб\":\n",
    "print(0)\n",
    "print(1)\n",
    "print(2)\n",
    "print(3)\n",
    "print(4)\n",
    "print(5)\n",
    "print(6)\n",
    "print(7)\n",
    "print(8)\n",
    "print(9)"
   ]
  },
  {
   "cell_type": "code",
   "execution_count": 13,
   "metadata": {},
   "outputs": [
    {
     "name": "stdout",
     "output_type": "stream",
     "text": [
      "0\n",
      "1\n",
      "2\n",
      "3\n",
      "4\n",
      "5\n",
      "6\n",
      "7\n",
      "8\n",
      "9\n"
     ]
    }
   ],
   "source": [
    "# а можно вот так - с помощью цикла:\n",
    "numbers = [0, 1, 2, 3, 4, 5, 6, 7, 8, 9]\n",
    "for num in numbers:\n",
    "    print(num)"
   ]
  },
  {
   "cell_type": "code",
   "execution_count": 19,
   "metadata": {},
   "outputs": [
    {
     "name": "stdout",
     "output_type": "stream",
     "text": [
      "h\n",
      "e\n",
      "l\n",
      "l\n",
      "o\n"
     ]
    }
   ],
   "source": [
    "# счётчик может пробегать не только по списку, но и по любой другой последовательности, например по буквам некоторой строки:\n",
    "word = 'hello'\n",
    "for letter in word:\n",
    "    print(letter)"
   ]
  },
  {
   "cell_type": "markdown",
   "metadata": {},
   "source": [
    "# Фунция range()"
   ]
  },
  {
   "cell_type": "markdown",
   "metadata": {},
   "source": [
    "Составлять вручную длинные списки чисел для цикла for - занятие утомительное (а нужен этот цикл на каждом шагу). Поэтому специально для этого в python существует встроенная функция <strong>range()</strong>, которая автоматически генерирует для нас нужный числовой диапазон. \n",
    "\n",
    "Важно понимать, что range() не сохраняет сгенерированный диапазон в памяти (чтобы не тратить её зря)."
   ]
  },
  {
   "cell_type": "code",
   "execution_count": 16,
   "metadata": {},
   "outputs": [
    {
     "name": "stdout",
     "output_type": "stream",
     "text": [
      "5\n",
      "6\n",
      "7\n",
      "8\n",
      "9\n"
     ]
    }
   ],
   "source": [
    "# как правило range() вызывается с двумя аргументами - нижней и верхней границами нужного диапазона:\n",
    "for num in range(5, 10):\n",
    "    print(num)"
   ]
  },
  {
   "cell_type": "code",
   "execution_count": 11,
   "metadata": {},
   "outputs": [
    {
     "name": "stdout",
     "output_type": "stream",
     "text": [
      "0\n",
      "1\n",
      "2\n",
      "3\n",
      "4\n"
     ]
    }
   ],
   "source": [
    "# если указать только верхнюю границу, то range() сгенерирует список от 0 с шагом 1:\n",
    "for num in range(5):\n",
    "    print(num)"
   ]
  },
  {
   "cell_type": "code",
   "execution_count": 25,
   "metadata": {},
   "outputs": [
    {
     "name": "stdout",
     "output_type": "stream",
     "text": [
      "-9\n",
      "-7\n",
      "-5\n",
      "-3\n",
      "-1\n"
     ]
    }
   ],
   "source": [
    "# range() умеет генерировать списки чисел с любым шагом (не только 1):\n",
    "for num in range(-9, 0, 2):\n",
    "    print(num)"
   ]
  }
 ],
 "metadata": {
  "kernelspec": {
   "display_name": "Python 3",
   "language": "python",
   "name": "python3"
  },
  "language_info": {
   "codemirror_mode": {
    "name": "ipython",
    "version": 3
   },
   "file_extension": ".py",
   "mimetype": "text/x-python",
   "name": "python",
   "nbconvert_exporter": "python",
   "pygments_lexer": "ipython3",
   "version": "3.7.3"
  }
 },
 "nbformat": 4,
 "nbformat_minor": 2
}
